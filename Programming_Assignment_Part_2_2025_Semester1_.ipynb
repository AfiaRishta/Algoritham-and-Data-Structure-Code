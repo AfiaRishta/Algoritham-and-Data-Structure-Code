{
  "nbformat": 4,
  "nbformat_minor": 0,
  "metadata": {
    "colab": {
      "provenance": []
    },
    "kernelspec": {
      "name": "python3",
      "display_name": "Python 3"
    },
    "language_info": {
      "name": "python"
    }
  },
  "cells": [
    {
      "cell_type": "markdown",
      "metadata": {
        "id": "0DBZnR5yD5VM"
      },
      "source": [
        "# CSE2ALG Programming Assignment - Part 2"
      ]
    },
    {
      "cell_type": "markdown",
      "metadata": {
        "id": "nlF-00F_Rdt2"
      },
      "source": [
        "## Assignment Information"
      ]
    },
    {
      "cell_type": "markdown",
      "metadata": {
        "id": "ncAUSYpShmtH"
      },
      "source": [
        "### Assessment\n",
        "\n",
        "This part of the assignment is worth **15%** of your final mark for this subject"
      ]
    },
    {
      "cell_type": "markdown",
      "metadata": {
        "id": "MAvbihdNhw1M"
      },
      "source": [
        "### Deadline\n",
        "\n",
        "This due date for this part of the assignment is: **26th May 2025 by 11:59PM AEST**\n",
        "\n",
        "Late submissions will incur a penalty of 5% of the final assignment mark per day.  If you have encountered difficulties that lead to late submission or no submission, you should apply for special consideration.  No assignment is accepted after a delay of more than five days.\n"
      ]
    },
    {
      "cell_type": "markdown",
      "metadata": {
        "id": "glZyxD9wEI78"
      },
      "source": [
        "### Submission Instructions\n",
        "\n",
        "The submission for this assignment is the `.ipynb` notebook file along with a `.pdf` report. **Submissions in any other format (e.g. .zip file) will not be graded**.\n",
        "\n",
        "For the `.ipynb` notebook file, you should export it and upload it via the link on LMS.\n",
        "\n",
        "For the `.pdf` file, you should upload it to the same link on LMS. Make sure to include a link to your video presentation within your `.pdf` report. You can find the detailed report requirements at the end of this file."
      ]
    },
    {
      "cell_type": "markdown",
      "metadata": {
        "id": "4FEYKpPFRZMo"
      },
      "source": [
        "### Plagiarism\n",
        "\n",
        "**This is an individual assignment, and the solutions that you submit for all of the tasks must be your own. Copying solutions from other students, relatives, friends, or strangers on the internet is plagiarism and treated as [academic misconduct](https://www.latrobe.edu.au/students/admin/academic-integrity) by La Trobe University. Plagiarism includes copying solutions and making superficial changes to the code (such as renaming variables or editing comments). The penalty for academic misconduct can be as serious as expulsion from the university.**"
      ]
    },
    {
      "cell_type": "markdown",
      "metadata": {
        "id": "wlIMpTyxR8K1"
      },
      "source": [
        "### Restrictions\n",
        "\n",
        "In this assignment you are **NOT** allowed to use any of the builtin sorting functions/methods in Python (e.g. `sorted()` or `.sort()`).\n",
        "\n",
        "Using any builtin sorting functions/methods will result in 0 marks for that section."
      ]
    },
    {
      "cell_type": "markdown",
      "metadata": {
        "id": "STA0bem_j5_o"
      },
      "source": [
        "### Important\n",
        "\n",
        "To evaluate the execution time of your code, we will be using the code provided in the Solution Execution Time section."
      ]
    },
    {
      "cell_type": "markdown",
      "metadata": {
        "id": "C3a5HbgYHXok"
      },
      "source": [
        "## Assignment Brief\n",
        "\n",
        "**This part of the assignment is an extension of part 1. Whereas for part 1 we considered the correctness only, we are concerned with the efficiency for this part.**\n",
        "\n",
        "*The brief for Assignment Part 1 is copied below for your convenience:*\n",
        "\n",
        "In many situations, we may need to find a **word** based on one or more letters in it. For example, when making or completing a crossword you may want to find a word that has 4 letters, starts with *J* and ends with *A*. In this assignment, the program you will write will create a lexicon of words from various text files.\n",
        "\n",
        "A **word** is a sequence of letters. Words will be treated in a case-insensitive manner. A simple option is to store all the words in lower case. Initially, a word is obtained as a sequence of characters separated by whitespace characters. Then numbers and punctuation characters, if any, must be removed. More specifically:\n",
        "* If the word \"and\" occurs twice in the file, it is only stored once in the lexicon.\n",
        "* If the word \"you\" also occurs as \"YOU\", only one version is stored.\n",
        "* Punctuation, such as commas, quotes, hyphens, full stops and question marks, are removed.\n",
        "* Numeric characters are removed.\n",
        "* If the word \"don't\" or the word \"second-hand\" appears in the input texts, they will be stored without punctuation (i.e. \"dont\" and \"secondhand\" respectively).\n",
        "* The 'word' \"1\", for example, will be ignored as it contains all numeric characters.\n",
        "\n",
        "For each word, we also keep the following information:\n",
        "* The frequency: How many times the word appears in the input files.\n",
        "* The list of neighbours: A **neighbour** of a word *w* is a word that is of the same length and differs from *w* by only one letter. For example, if the word *w* refers to \"cat\", then:\n",
        "    * \"cathy\" is not *w*'s neighbour, for they are not of the same length.\n",
        "    * \"man\" is not *w*'s neighbour, for they differ by more than one letter.\n",
        "    * \"can\" is a neighbour of *w*\n",
        "    * \"fat\" is a neighbour of *w*\n",
        "    * \"cot\" is a neighbour of *w*.\n",
        "\n",
        "\n",
        "In this part of the assignment, you will need to:\n",
        "* Read **one** text file and construct a lexicon that contains words from the file\n",
        "* Write the words (including spellings, frequencies and neighbours) from the lexicon to a text file\n",
        "    * The format of the text file MUST be the same as in Part 1 of the assignment\n",
        "* You should only include **one** solution. It is entirely up to you which data structure(s) and/or sorting algorithm(s) will be used, as long as they are included in the subject; however, you must take the program's efficiency in consideration, as the test file is much larger in this part.\n",
        "    * The steps required to complete this part of the assignment should be similar to what you did in part 1\n",
        "\n",
        "To simplify the structure of this notebook, sections have been created for you to populate with parts of your solution. With that said, you are more than welcome to create any additional code blocks as you see fit, just make sure it is clear how it is relevant to your final solution. As you create your solution, make sure you test it as you go to ensure all components work.\n",
        "\n",
        "Once you have completed this assignment, you will also need to write a brief report describing the data structures and/or sorting algorithms you selected."
      ]
    },
    {
      "cell_type": "markdown",
      "metadata": {
        "id": "6TC04REZA1Mq"
      },
      "source": [
        "## Downloading the Datasets\n",
        "\n",
        "In this assignment, you will be assessed on the efficiency and correctness of loading data from a text files to construct your lexicon.\n",
        "\n",
        "To help you design and implement your solution, in addition to the file you will be assessed on, other sample files (with sample outputs) are provided for you to test and debug your solution.\n",
        "\n",
        "After downloading the files, you can inspect the contents of the them in the 'Files' tab.\n",
        "\n",
        "**If you come back to this notebook at a later stage, you will need to download the data again.**\n",
        "\n",
        "**When coming back to this notebook, try to only download the files you are interested in testing.**"
      ]
    },
    {
      "cell_type": "markdown",
      "metadata": {
        "id": "Ds-5tRjZSAa-"
      },
      "source": [
        "### The Assessable Dataset\n",
        "\n",
        "Run the code cell below to download the dataset you will be assessed on for execution time."
      ]
    },
    {
      "cell_type": "code",
      "metadata": {
        "id": "QsdyHDwjBICb",
        "colab": {
          "base_uri": "https://localhost:8080/"
        },
        "outputId": "06822c04-a8cf-41d1-f099-e6b0654987fe"
      },
      "source": [
        "!wget 'https://drive.google.com/uc?export=download&id=1U9MRaj6I0xnYFt_pEEI5H0BfKeb_C0QV' -O in.txt"
      ],
      "execution_count": 49,
      "outputs": [
        {
          "output_type": "stream",
          "name": "stdout",
          "text": [
            "--2025-05-26 11:10:24--  https://drive.google.com/uc?export=download&id=1U9MRaj6I0xnYFt_pEEI5H0BfKeb_C0QV\n",
            "Resolving drive.google.com (drive.google.com)... 209.85.200.113, 209.85.200.101, 209.85.200.100, ...\n",
            "Connecting to drive.google.com (drive.google.com)|209.85.200.113|:443... connected.\n",
            "HTTP request sent, awaiting response... 303 See Other\n",
            "Location: https://drive.usercontent.google.com/download?id=1U9MRaj6I0xnYFt_pEEI5H0BfKeb_C0QV&export=download [following]\n",
            "--2025-05-26 11:10:24--  https://drive.usercontent.google.com/download?id=1U9MRaj6I0xnYFt_pEEI5H0BfKeb_C0QV&export=download\n",
            "Resolving drive.usercontent.google.com (drive.usercontent.google.com)... 74.125.132.132, 2607:f8b0:4001:c68::84\n",
            "Connecting to drive.usercontent.google.com (drive.usercontent.google.com)|74.125.132.132|:443... connected.\n",
            "HTTP request sent, awaiting response... 200 OK\n",
            "Length: 5763792 (5.5M) [application/octet-stream]\n",
            "Saving to: ‘in.txt’\n",
            "\n",
            "in.txt              100%[===================>]   5.50M  --.-KB/s    in 0.04s   \n",
            "\n",
            "2025-05-26 11:10:26 (156 MB/s) - ‘in.txt’ saved [5763792/5763792]\n",
            "\n"
          ]
        }
      ]
    },
    {
      "cell_type": "markdown",
      "metadata": {
        "id": "PcyQBGe-RYKW"
      },
      "source": [
        "### The Sample Datasets\n",
        "\n",
        "Run each of the code cells below to download one of the sample datasets and their corresponding output."
      ]
    },
    {
      "cell_type": "markdown",
      "metadata": {
        "id": "rmnK0P_zR5RN"
      },
      "source": [
        "The first sample dataset:"
      ]
    },
    {
      "cell_type": "code",
      "metadata": {
        "id": "JeOYlX43Rm-S",
        "colab": {
          "base_uri": "https://localhost:8080/"
        },
        "outputId": "0e20429a-014f-478a-c49a-49a9301e3179"
      },
      "source": [
        "!wget 'https://drive.google.com/uc?export=download&id=1D_cSwjZBLRxJVZlJ070UljFLxr-M31bd' -O s1.txt\n",
        "!wget 'https://drive.google.com/uc?export=download&id=1PwdbWz1pvvdnvbguSpanvuY1dPzTEVn8' -O s1-out.txt"
      ],
      "execution_count": 50,
      "outputs": [
        {
          "output_type": "stream",
          "name": "stdout",
          "text": [
            "--2025-05-26 11:10:28--  https://drive.google.com/uc?export=download&id=1D_cSwjZBLRxJVZlJ070UljFLxr-M31bd\n",
            "Resolving drive.google.com (drive.google.com)... 209.85.200.113, 209.85.200.101, 209.85.200.100, ...\n",
            "Connecting to drive.google.com (drive.google.com)|209.85.200.113|:443... connected.\n",
            "HTTP request sent, awaiting response... 303 See Other\n",
            "Location: https://drive.usercontent.google.com/download?id=1D_cSwjZBLRxJVZlJ070UljFLxr-M31bd&export=download [following]\n",
            "--2025-05-26 11:10:28--  https://drive.usercontent.google.com/download?id=1D_cSwjZBLRxJVZlJ070UljFLxr-M31bd&export=download\n",
            "Resolving drive.usercontent.google.com (drive.usercontent.google.com)... 74.125.132.132, 2607:f8b0:4001:c68::84\n",
            "Connecting to drive.usercontent.google.com (drive.usercontent.google.com)|74.125.132.132|:443... connected.\n",
            "HTTP request sent, awaiting response... 200 OK\n",
            "Length: 886 [application/octet-stream]\n",
            "Saving to: ‘s1.txt’\n",
            "\n",
            "s1.txt              100%[===================>]     886  --.-KB/s    in 0s      \n",
            "\n",
            "2025-05-26 11:10:30 (37.4 MB/s) - ‘s1.txt’ saved [886/886]\n",
            "\n",
            "--2025-05-26 11:10:30--  https://drive.google.com/uc?export=download&id=1PwdbWz1pvvdnvbguSpanvuY1dPzTEVn8\n",
            "Resolving drive.google.com (drive.google.com)... 209.85.200.113, 209.85.200.101, 209.85.200.100, ...\n",
            "Connecting to drive.google.com (drive.google.com)|209.85.200.113|:443... connected.\n",
            "HTTP request sent, awaiting response... 303 See Other\n",
            "Location: https://drive.usercontent.google.com/download?id=1PwdbWz1pvvdnvbguSpanvuY1dPzTEVn8&export=download [following]\n",
            "--2025-05-26 11:10:30--  https://drive.usercontent.google.com/download?id=1PwdbWz1pvvdnvbguSpanvuY1dPzTEVn8&export=download\n",
            "Resolving drive.usercontent.google.com (drive.usercontent.google.com)... 74.125.132.132, 2607:f8b0:4001:c68::84\n",
            "Connecting to drive.usercontent.google.com (drive.usercontent.google.com)|74.125.132.132|:443... connected.\n",
            "HTTP request sent, awaiting response... 200 OK\n",
            "Length: 1482 (1.4K) [application/octet-stream]\n",
            "Saving to: ‘s1-out.txt’\n",
            "\n",
            "s1-out.txt          100%[===================>]   1.45K  --.-KB/s    in 0s      \n",
            "\n",
            "2025-05-26 11:10:33 (12.4 MB/s) - ‘s1-out.txt’ saved [1482/1482]\n",
            "\n"
          ]
        }
      ]
    },
    {
      "cell_type": "markdown",
      "metadata": {
        "id": "Qr8rsvT-R6-B"
      },
      "source": [
        "The second sample dataset:"
      ]
    },
    {
      "cell_type": "code",
      "metadata": {
        "id": "VkAGmASQR47a",
        "colab": {
          "base_uri": "https://localhost:8080/"
        },
        "outputId": "106e2976-c127-4301-9bea-71ed6dd33f1d"
      },
      "source": [
        "!wget 'https://drive.google.com/uc?export=download&id=1FWaZLl5qo7xZYRN3MbCD8t3xmYZhpaJ8' -O s2.txt\n",
        "!wget 'https://drive.google.com/uc?export=download&id=11QIafgpyE4v8tUm2NW8dxpnSiVUFR7Ro' -O s2-out.txt"
      ],
      "execution_count": 51,
      "outputs": [
        {
          "output_type": "stream",
          "name": "stdout",
          "text": [
            "--2025-05-26 11:10:33--  https://drive.google.com/uc?export=download&id=1FWaZLl5qo7xZYRN3MbCD8t3xmYZhpaJ8\n",
            "Resolving drive.google.com (drive.google.com)... 209.85.200.113, 209.85.200.101, 209.85.200.100, ...\n",
            "Connecting to drive.google.com (drive.google.com)|209.85.200.113|:443... connected.\n",
            "HTTP request sent, awaiting response... 303 See Other\n",
            "Location: https://drive.usercontent.google.com/download?id=1FWaZLl5qo7xZYRN3MbCD8t3xmYZhpaJ8&export=download [following]\n",
            "--2025-05-26 11:10:33--  https://drive.usercontent.google.com/download?id=1FWaZLl5qo7xZYRN3MbCD8t3xmYZhpaJ8&export=download\n",
            "Resolving drive.usercontent.google.com (drive.usercontent.google.com)... 74.125.132.132, 2607:f8b0:4001:c68::84\n",
            "Connecting to drive.usercontent.google.com (drive.usercontent.google.com)|74.125.132.132|:443... connected.\n",
            "HTTP request sent, awaiting response... 200 OK\n",
            "Length: 189 [application/octet-stream]\n",
            "Saving to: ‘s2.txt’\n",
            "\n",
            "s2.txt              100%[===================>]     189  --.-KB/s    in 0s      \n",
            "\n",
            "2025-05-26 11:10:35 (9.65 MB/s) - ‘s2.txt’ saved [189/189]\n",
            "\n",
            "--2025-05-26 11:10:35--  https://drive.google.com/uc?export=download&id=11QIafgpyE4v8tUm2NW8dxpnSiVUFR7Ro\n",
            "Resolving drive.google.com (drive.google.com)... 209.85.200.113, 209.85.200.101, 209.85.200.100, ...\n",
            "Connecting to drive.google.com (drive.google.com)|209.85.200.113|:443... connected.\n",
            "HTTP request sent, awaiting response... 303 See Other\n",
            "Location: https://drive.usercontent.google.com/download?id=11QIafgpyE4v8tUm2NW8dxpnSiVUFR7Ro&export=download [following]\n",
            "--2025-05-26 11:10:35--  https://drive.usercontent.google.com/download?id=11QIafgpyE4v8tUm2NW8dxpnSiVUFR7Ro&export=download\n",
            "Resolving drive.usercontent.google.com (drive.usercontent.google.com)... 74.125.132.132, 2607:f8b0:4001:c68::84\n",
            "Connecting to drive.usercontent.google.com (drive.usercontent.google.com)|74.125.132.132|:443... connected.\n",
            "HTTP request sent, awaiting response... 200 OK\n",
            "Length: 398 [application/octet-stream]\n",
            "Saving to: ‘s2-out.txt’\n",
            "\n",
            "s2-out.txt          100%[===================>]     398  --.-KB/s    in 0s      \n",
            "\n",
            "2025-05-26 11:10:37 (13.9 MB/s) - ‘s2-out.txt’ saved [398/398]\n",
            "\n"
          ]
        }
      ]
    },
    {
      "cell_type": "markdown",
      "metadata": {
        "id": "pKi7ZhU3vjEE"
      },
      "source": [
        "## Programming Tasks (78 Marks)"
      ]
    },
    {
      "cell_type": "markdown",
      "metadata": {
        "id": "zxjEp36yFrbe"
      },
      "source": [
        "### The Word Class\n",
        "\n",
        "In Part 1 of the assignment, you needed to create a `Word` class to represent a word in your lexicon.\n",
        "\n",
        "If you think it is necessary to include this class again in your solution, implement your class in the code cell below."
      ]
    },
    {
      "cell_type": "code",
      "metadata": {
        "id": "whCru7cBGFD4"
      },
      "source": [
        "# Write your implementation of the Word class here\n",
        "# ─── Word Class Definition ─────────────────────────────────────────────────\n",
        "\n",
        "class Word:\n",
        "    \"\"\"\n",
        "    Represents a word in the lexicon, tracking:\n",
        "      - text:        the lowercase spelling of the word\n",
        "      - frequency:   how many times it appears\n",
        "      - neighbours:  list of words of the same length differing by one letter\n",
        "    \"\"\"\n",
        "    __slots__ = (\"text\", \"frequency\", \"neighbours\")\n",
        "\n",
        "    def __init__(self, text: str):\n",
        "        # store normalized lowercase\n",
        "        self.text: str = text.lower()\n",
        "        self.frequency: int = 0\n",
        "        self.neighbours: list[str] = []\n",
        "\n",
        "    def increment_frequency(self) -> None:\n",
        "        \"\"\"Increase this word’s occurrence count by 1.\"\"\"\n",
        "        self.frequency += 1\n",
        "\n",
        "    def add_neighbour(self, neighbour: str) -> None:\n",
        "        \"\"\"\n",
        "        Add a neighbour (if not already present).\n",
        "        Neighbours will be sorted later.\n",
        "        \"\"\"\n",
        "        if neighbour not in self.neighbours:\n",
        "            self.neighbours.append(neighbour)\n",
        "\n",
        "    def sort_neighbours(self) -> None:\n",
        "        \"\"\"Ensure the neighbour list is in alphabetical order.\"\"\"\n",
        "        self.neighbours.sort()\n",
        "\n",
        "    def __lt__(self, other: \"Word\") -> bool:\n",
        "        \"\"\"Allow sorting Word objects by their text.\"\"\"\n",
        "        return self.text < other.text\n",
        "\n",
        "    def __repr__(self) -> str:\n",
        "        \"\"\"\n",
        "        Render as:\n",
        "          word frequency [n1, n2, n3]\n",
        "        for direct dumping to an output file.\n",
        "        \"\"\"\n",
        "        return f\"{self.text} {self.frequency} {self.neighbours}\"\n",
        "\n",
        "\n",
        "\n",
        "\n",
        "\n",
        "\n",
        "\n"
      ],
      "execution_count": 79,
      "outputs": []
    },
    {
      "cell_type": "markdown",
      "metadata": {
        "id": "xxPyqbbdGufn"
      },
      "source": [
        "### Your Data Structure\n",
        "\n",
        "In Part 2 of the assignment, you needed to choose a data structure learned in class to represent your lexicon.\n",
        "\n",
        "Use the code cell below to implement any necessary components that are used to represent your lexicon."
      ]
    },
    {
      "cell_type": "code",
      "metadata": {
        "id": "Tb-VwyfhJvYt"
      },
      "source": [
        "# ─── Word Class Definition (Ensure Word is available) ─────────────────\n",
        "\n",
        "class Word:\n",
        "    \"\"\"\n",
        "    Represents a word in the lexicon, tracking:\n",
        "      - text: lowercase spelling\n",
        "      - frequency: count of occurrences\n",
        "      - neighbours: list of words differing by one letter\n",
        "    \"\"\"\n",
        "    __slots__ = (\"text\", \"frequency\", \"neighbours\")\n",
        "\n",
        "    def __init__(self, text: str):\n",
        "        self.text = text.lower()\n",
        "        self.frequency = 0\n",
        "        self.neighbours = []\n",
        "\n",
        "    def increment_frequency(self):\n",
        "        self.frequency += 1\n",
        "\n",
        "    def add_neighbour(self, neighbour: str):\n",
        "        if neighbour not in self.neighbours:\n",
        "            self.neighbours.append(neighbour)\n",
        "\n",
        "    def sort_neighbours(self):\n",
        "        self.neighbours.sort()\n",
        "\n",
        "    def __lt__(self, other):\n",
        "        return self.text < other.text\n",
        "\n",
        "    def __repr__(self):\n",
        "        return f\"{self.text} {self.frequency} {self.neighbours}\"\n",
        "\n",
        "\n",
        "# ─── Your Data Structure: Lexicon (uses Word) ────────────────────────────\n",
        "\n",
        "class Lexicon:\n",
        "    \"\"\"\n",
        "    A hash-table of Word objects, with length-buckets for neighbour detection.\n",
        "    \"\"\"\n",
        "    __slots__ = (\"table\", \"buckets\")\n",
        "\n",
        "    def __init__(self):\n",
        "        # Map text -> Word instance\n",
        "        self.table = {}\n",
        "        # Map word length -> list of Word instances\n",
        "        self.buckets = {}\n",
        "\n",
        "    def insert(self, text: str) -> Word:\n",
        "        \"\"\"\n",
        "        Insert or update a Word:\n",
        "          - Create Word if new\n",
        "          - Increment frequency\n",
        "        Returns the Word object.\n",
        "        \"\"\"\n",
        "        if text not in self.table:\n",
        "            self.table[text] = Word(text)\n",
        "        w = self.table[text]\n",
        "        w.increment_frequency()\n",
        "        return w\n",
        "\n",
        "    def build_length_buckets(self):\n",
        "        \"\"\"\n",
        "        Populate buckets: length -> list of Words of that length.\n",
        "        \"\"\"\n",
        "        self.buckets.clear()\n",
        "        for w in self.table.values():\n",
        "            self.buckets.setdefault(len(w.text), []).append(w)\n",
        "\n",
        "\n"
      ],
      "execution_count": 80,
      "outputs": []
    },
    {
      "cell_type": "markdown",
      "metadata": {
        "id": "Uibi1FBaUgt4"
      },
      "source": [
        "### Any Additional Code\n",
        "\n",
        "Use the code cell below (or create any other code cells) if you need to add any additional functions to your solution."
      ]
    },
    {
      "cell_type": "code",
      "metadata": {
        "id": "MjcWlat3UsY_"
      },
      "source": [
        "import re\n",
        "\n",
        "def clean_word(token: str) -> str:\n",
        "    \"\"\"\n",
        "    Lowercase and strip non-letters. Returns '' if no letters remain.\n",
        "    \"\"\"\n",
        "    return re.sub(r'[^a-z]', '', token.lower())\n",
        "\n",
        "def is_neighbour(w1: Word, w2: Word) -> bool:\n",
        "    \"\"\"\n",
        "    True if w1 and w2 are same length and differ by exactly one character.\n",
        "    \"\"\"\n",
        "    if len(w1.text) != len(w2.text):\n",
        "        return False\n",
        "    diffs = sum(c1 != c2 for c1, c2 in zip(w1.text, w2.text))\n",
        "    return diffs == 1\n",
        "\n",
        "def heapify(arr: list[Word], n: int, i: int) -> None:\n",
        "    \"\"\"\n",
        "    Sift-down in a max‐heap (using Word.__lt__).\n",
        "    \"\"\"\n",
        "    largest, left, right = i, 2*i+1, 2*i+2\n",
        "    if left < n and arr[largest] < arr[left]:\n",
        "        largest = left\n",
        "    if right < n and arr[largest] < arr[right]:\n",
        "        largest = right\n",
        "    if largest != i:\n",
        "        arr[i], arr[largest] = arr[largest], arr[i]\n",
        "        heapify(arr, n, largest)\n",
        "\n",
        "def heap_sort(arr: list[Word]) -> list[Word]:\n",
        "    \"\"\"\n",
        "    In-place heap sort on Word objects by their text.\n",
        "    \"\"\"\n",
        "    n = len(arr)\n",
        "    # build max-heap\n",
        "    for i in range(n//2 - 1, -1, -1):\n",
        "        heapify(arr, n, i)\n",
        "    # extract max repeatedly\n",
        "    for end in range(n-1, 0, -1):\n",
        "        arr[0], arr[end] = arr[end], arr[0]\n",
        "        heapify(arr, end, 0)\n",
        "    return arr\n",
        "\n",
        "\n",
        "\n",
        "\n",
        "\n"
      ],
      "execution_count": 81,
      "outputs": []
    },
    {
      "cell_type": "markdown",
      "metadata": {
        "id": "iRd4re8VIUcn"
      },
      "source": [
        "### Running Your Solution"
      ]
    },
    {
      "cell_type": "markdown",
      "metadata": {
        "id": "SbvTYR39rVkh"
      },
      "source": [
        "#### Instructions\n",
        "\n",
        "In this task you to write a function, `build_lexicon()`, that has two parameters, an `input_filename` and `output_filename`.\n",
        "\n",
        "This function should:\n",
        "* Read all words from the file described by `input_filename`, constructing a lexicon with all words\n",
        "* Write all words, including spellings, frequencies and neighbours from the lexicon to the file described by `output_filename`.\n",
        "\n",
        "This functionality should exactly match what was required in part 1 of the assignment. That is, when writing words to the text file,\n",
        "* The words must be written in sorted alphabetical order.\n",
        "* The information on each word, which is also written to the text file, includes the frequency and the list of its neighbours.\n",
        "* The list of neighbours must also be in alphabetical order.\n",
        "    * Neighbours in the list of neighbours can either be written with or without quotation marks around them (refer to part 1 of the assignment).\n",
        "\n",
        "To output each word, first the spelling of the word is displayed, followed by the frequency, and then followed by the word's neighbours (in alphabetical order, inside a pair of square brackets).\n",
        "\n",
        "Use the provided sample files to check if the output of your program is correct.\n",
        "\n",
        "You may implement as many additional functions, etc. as you see fit to implement this task (e.g. similar to part 1 of the assignment where you had functions to read the data, write the data, etc.).\n",
        "\n",
        "We have provided code that will call your function and create an output text file. Calling your function in this way is how we will test if your solution works as expected. You may not modify this function call."
      ]
    },
    {
      "cell_type": "markdown",
      "metadata": {
        "id": "3jSuHrKuJSth"
      },
      "source": [
        "#### Your Solution\n",
        "\n"
      ]
    },
    {
      "cell_type": "code",
      "metadata": {
        "id": "D2wibsl0JVKd"
      },
      "source": [
        "from collections import defaultdict\n",
        "\n",
        "def build_lexicon(input_filename: str, output_filename: str) -> None:\n",
        "    \"\"\"\n",
        "    Read input_filename, build lexicon, and write to output_filename\n",
        "    in sorted order: `word frequency [neighbour1, ...]`\n",
        "    Uses an O(n·ℓ) pattern‐map to link neighbours.\n",
        "    \"\"\"\n",
        "    lex = Lexicon()\n",
        "\n",
        "    # 1) Read & clean tokens\n",
        "    with open(input_filename, \"r\") as f:\n",
        "        for line in f:\n",
        "            for token in line.split():\n",
        "                txt = clean_word(token)\n",
        "                if txt:\n",
        "                    lex.insert(txt)\n",
        "\n",
        "    # 2) Build buckets\n",
        "    lex.build_length_buckets()\n",
        "\n",
        "    # 3) Link neighbours via pattern‐map\n",
        "    pattern_map: dict[str, list[Word]] = defaultdict(list)\n",
        "    for w in lex.table.values():\n",
        "        L = len(w.text)\n",
        "        for i in range(L):\n",
        "            pat = w.text[:i] + \"_\" + w.text[i+1:]\n",
        "            pattern_map[pat].append(w)\n",
        "\n",
        "    for group in pattern_map.values():\n",
        "        if len(group) < 2:\n",
        "            continue\n",
        "        for i in range(len(group)):\n",
        "            for j in range(i+1, len(group)):\n",
        "                w1, w2 = group[i], group[j]\n",
        "                w1.add_neighbour(w2.text)\n",
        "                w2.add_neighbour(w1.text)\n",
        "\n",
        "    # 4) Sort each word’s neighbour list\n",
        "    for w in lex.table.values():\n",
        "        w.sort_neighbours()\n",
        "\n",
        "    # 5) Heap‐sort all Word objects by their text\n",
        "    sorted_words = heap_sort(list(lex.table.values()))\n",
        "\n",
        "    # 6) Write out the final lexicon dump\n",
        "    with open(output_filename, \"w\") as out:\n",
        "        for w in sorted_words:\n",
        "            out.write(f\"{w.text} {w.frequency} {w.neighbours}\\n\")\n",
        "\n",
        "\n",
        "\n"
      ],
      "execution_count": 82,
      "outputs": []
    },
    {
      "cell_type": "markdown",
      "metadata": {
        "id": "BlWHrdvjWefD"
      },
      "source": [
        "#### Run Your Solution"
      ]
    },
    {
      "cell_type": "markdown",
      "metadata": {
        "id": "d_8iLBH3Wzga"
      },
      "source": [
        "Run the code cell below to test your program. Feel free to modify the `input_filename` and `output_filename` variables to test the other sample datasets."
      ]
    },
    {
      "cell_type": "code",
      "metadata": {
        "id": "nHcg0RJdWdw0",
        "collapsed": true
      },
      "source": [
        "input_filename  = 's2.txt'\n",
        "output_filename = 'out-your.txt'\n",
        "\n",
        "build_lexicon(input_filename, output_filename)    # You cannot modify this function call\n",
        "\n"
      ],
      "execution_count": 83,
      "outputs": []
    },
    {
      "cell_type": "markdown",
      "metadata": {
        "id": "UbYo_FiaY1Pm"
      },
      "source": [
        "### Solution Execution Time"
      ]
    },
    {
      "cell_type": "markdown",
      "metadata": {
        "id": "FTZj-GwoY55c"
      },
      "source": [
        "#### Instructions\n",
        "\n",
        "In this part of the assignment, not only are we interested in the correctness of your solution, we are also concerned about the efficiency of your solution.\n",
        "\n",
        "A large portion of marks for this assignment is based on the execution time of your solution.\n",
        "\n",
        "The code cell below will use the `timeit` module to time how long it takes to run your complete solution. We will be using this to determine the execution time of your solution.\n",
        "\n",
        "You can use this code to inspect the execution of your solution and determine if it is acceptable. Use this to see if you can optimize your solution any further!"
      ]
    },
    {
      "cell_type": "code",
      "metadata": {
        "id": "d1QMkG6iZSnh",
        "colab": {
          "base_uri": "https://localhost:8080/"
        },
        "outputId": "f4ee7254-dad3-4046-d259-20b011cb7398"
      },
      "source": [
        "import timeit\n",
        "\n",
        "# Number of repeats for averaging\n",
        "N_REPEATS = 3\n",
        "\n",
        "input_filename  = 'in.txt'\n",
        "output_filename = 'out.txt'\n",
        "\n",
        "# Measure total execution time across N_REPEATS runs\n",
        "total_time = timeit.timeit(\n",
        "    lambda: build_lexicon(input_filename, output_filename),\n",
        "    globals=globals(),\n",
        "    number=N_REPEATS\n",
        ")\n",
        "\n",
        "# Compute and print the average\n",
        "avg_time = total_time / N_REPEATS\n",
        "print(f'Average execution time: {avg_time:.2f}s across {N_REPEATS} runs')\n",
        "\n",
        "\n"
      ],
      "execution_count": 84,
      "outputs": [
        {
          "output_type": "stream",
          "name": "stdout",
          "text": [
            "Average execution time: 1.70s across 3 runs\n"
          ]
        }
      ]
    },
    {
      "cell_type": "markdown",
      "source": [
        "## Compare efficiency with a new data structure\n",
        "\n",
        "In this task, you're invited to experiment with a dynamic data structure, the Skip List, to represent the lexicon. This data structure offers an innovative way to store and access words with impressive flexibility.\n",
        "\n",
        "Requirements:\n",
        "\n",
        "* The Skip List is a multi-layered linked list where each node has forward pointers, enabling it to \"skip\" sections of the list. This clever structure can significantly speed up search, insertion, and deletion operations. To get started, check out [this article](https://en.wikipedia.org/wiki/Skip_list) or explore other resources to dive into the potential of the Skip List.\n",
        "* Implement a Skip List for ordered storage of words and frequencies, allowing efficient sorted operations.\n",
        "\n",
        "\n",
        "Tasks:\n",
        "* Implement functions to insert, delete, and search for words in the Skip List.\n",
        "* Revise your build_lexicon() solution and any additional code\n",
        "* Compare the average solution execution time of this new structure against your data structure used in the previous task with s1.txt\n",
        "\n",
        "Push your understanding and take on this exciting challenge!"
      ],
      "metadata": {
        "id": "inmnvaGuvqKu"
      }
    },
    {
      "cell_type": "code",
      "source": [
        "import random\n",
        "\n",
        "class SkipListNode:\n",
        "    __slots__ = (\"key\", \"value\", \"forward\")\n",
        "    def __init__(self, key, value, level: int):\n",
        "        self.key = key\n",
        "        self.value = value\n",
        "        self.forward = [None] * (level + 1)\n",
        "\n",
        "class SkipList:\n",
        "    def __init__(self, max_level: int = 16, p: float = 0.5):\n",
        "        self.max_level = max_level\n",
        "        self.p = p\n",
        "        self.level = 0\n",
        "        self.header = SkipListNode(None, None, max_level)\n",
        "\n",
        "    def random_level(self) -> int:\n",
        "        lvl = 0\n",
        "        while random.random() < self.p and lvl < self.max_level:\n",
        "            lvl += 1\n",
        "        return lvl\n",
        "\n",
        "    def insert(self, key: str, value) -> None:\n",
        "        update = [None] * (self.max_level + 1)\n",
        "        current = self.header\n",
        "        for i in range(self.level, -1, -1):\n",
        "            while current.forward[i] and current.forward[i].key < key:\n",
        "                current = current.forward[i]\n",
        "            update[i] = current\n",
        "        current = current.forward[0]\n",
        "        if current and current.key == key:\n",
        "            current.value = value\n",
        "            return\n",
        "        lvl = self.random_level()\n",
        "        if lvl > self.level:\n",
        "            for i in range(self.level + 1, lvl + 1):\n",
        "                update[i] = self.header\n",
        "            self.level = lvl\n",
        "        node = SkipListNode(key, value, lvl)\n",
        "        for i in range(lvl + 1):\n",
        "            node.forward[i] = update[i].forward[i]\n",
        "            update[i].forward[i] = node\n",
        "\n",
        "    def search(self, key: str):\n",
        "        current = self.header\n",
        "        for i in range(self.level, -1, -1):\n",
        "            while current.forward[i] and current.forward[i].key < key:\n",
        "                current = current.forward[i]\n",
        "        current = current.forward[0]\n",
        "        if current and current.key == key:\n",
        "            return current\n",
        "        return None\n",
        "\n",
        "    def __iter__(self):\n",
        "        node = self.header.forward[0]\n",
        "        while node:\n",
        "            yield node\n",
        "            node = node.forward[0]\n",
        "\n",
        "    def delete(self, key: str) -> bool:\n",
        "        \"\"\"\n",
        "        Remove the node with `key` if present.\n",
        "        Returns True if deleted, False otherwise.\n",
        "        \"\"\"\n",
        "        update = [None] * (self.max_level + 1)\n",
        "        current = self.header\n",
        "        for i in range(self.level, -1, -1):\n",
        "            while current.forward[i] and current.forward[i].key < key:\n",
        "                current = current.forward[i]\n",
        "            update[i] = current\n",
        "\n",
        "        current = current.forward[0]\n",
        "        if not current or current.key != key:\n",
        "            return False\n",
        "\n",
        "        for i in range(self.level + 1):\n",
        "            if update[i].forward[i] is current:\n",
        "                update[i].forward[i] = current.forward[i]\n",
        "\n",
        "        while self.level > 0 and self.header.forward[self.level] is None:\n",
        "            self.level -= 1\n",
        "\n",
        "        return True\n"
      ],
      "metadata": {
        "id": "iX588g5Xv21H"
      },
      "execution_count": 85,
      "outputs": []
    },
    {
      "cell_type": "code",
      "source": [
        "def build_lexicon_skiplist(input_filename: str, output_filename: str) -> None:\n",
        "    \"\"\"\n",
        "    Build a lexicon using a SkipList to maintain sorted order of words.\n",
        "    \"\"\"\n",
        "    skip = SkipList()\n",
        "    buckets: dict[int, list[Word]] = {}\n",
        "\n",
        "    with open(input_filename, \"r\") as f:\n",
        "        for line in f:\n",
        "            for token in line.split():\n",
        "                txt = clean_word(token)\n",
        "                if not txt:\n",
        "                    continue\n",
        "                node = skip.search(txt)\n",
        "                if node:\n",
        "                    word = node.value\n",
        "                else:\n",
        "                    word = Word(txt)\n",
        "                    skip.insert(txt, word)\n",
        "                    buckets.setdefault(len(txt), []).append(word)\n",
        "                word.increment_frequency()\n",
        "\n",
        "    # simple O(k^2) neighbour linking on buckets\n",
        "    for bucket in buckets.values():\n",
        "        for i in range(len(bucket)):\n",
        "            for j in range(i+1, len(bucket)):\n",
        "                w1, w2 = bucket[i], bucket[j]\n",
        "                if is_neighbour(w1, w2):\n",
        "                    w1.add_neighbour(w2.text)\n",
        "                    w2.add_neighbour(w1.text)\n",
        "\n",
        "    for node in skip:\n",
        "        node.value.sort_neighbours()\n",
        "\n",
        "    with open(output_filename, \"w\") as out:\n",
        "        for node in skip:\n",
        "            w = node.value\n",
        "            out.write(f\"{w.text} {w.frequency} {w.neighbours}\\n\")\n",
        "\n",
        "\n"
      ],
      "metadata": {
        "id": "gVUtUVfMwbkA"
      },
      "execution_count": 86,
      "outputs": []
    },
    {
      "cell_type": "markdown",
      "metadata": {
        "id": "UTecBG1BDCuF"
      },
      "source": [
        "#### Run Skip List Solution"
      ]
    },
    {
      "cell_type": "markdown",
      "metadata": {
        "id": "_rF3R5c8DCuG"
      },
      "source": [
        "Run the code cell below to test the solution. Feel free to modify the `input_filename` and `output_filename` variables to test the other sample datasets."
      ]
    },
    {
      "cell_type": "code",
      "metadata": {
        "id": "4lc7fwYvDCuG"
      },
      "source": [
        "input_filename = 's1.txt'\n",
        "output_filename = 's1_out_skiplist.txt'\n",
        "build_lexicon_skiplist(input_filename, output_filename)    # You cannot modify this function call\n",
        "\n",
        "\n"
      ],
      "execution_count": 87,
      "outputs": []
    },
    {
      "cell_type": "markdown",
      "source": [
        "### Skip List Solution Execution Time"
      ],
      "metadata": {
        "id": "KY8OEbMGwAgn"
      }
    },
    {
      "cell_type": "code",
      "source": [
        "import timeit\n",
        "\n",
        "# Number of runs to average across\n",
        "N_REPEATS = 3\n",
        "\n",
        "# Use the sample s1 dataset for timing the Skip List version\n",
        "input_filename  = 's1.txt'\n",
        "output_filename = 's1_out_skiplist.txt'\n",
        "\n",
        "# Measure total execution time across N_REPEATS runs\n",
        "total_time = timeit.timeit(\n",
        "    lambda: build_lexicon_skiplist(input_filename, output_filename),\n",
        "    globals=globals(),\n",
        "    number=N_REPEATS\n",
        ")\n",
        "\n",
        "# Compute and print the average\n",
        "avg_time = total_time / N_REPEATS\n",
        "print(f\"Skip List avg time on s1.txt: {avg_time:.6f}s across {N_REPEATS} runs\")\n"
      ],
      "metadata": {
        "id": "iYHhdN3_wJNX",
        "colab": {
          "base_uri": "https://localhost:8080/"
        },
        "outputId": "9d256ca9-dce1-44a1-d020-04dd3040d51e"
      },
      "execution_count": 88,
      "outputs": [
        {
          "output_type": "stream",
          "name": "stdout",
          "text": [
            "Skip List avg time on s1.txt: 0.004756s across 3 runs\n"
          ]
        }
      ]
    },
    {
      "cell_type": "markdown",
      "metadata": {
        "id": "497Ko3SIwq4U"
      },
      "source": [
        "Report (22 Marks)\n",
        "\n",
        "Once you have finished the code for this assignment, you are required to create a video presentation (you can do it with La Trobe Zoom) and a written report that describes the sorting algorithms you used. These components are essential to demonstrate your understanding of the solutions and ensure academic integrity.\n",
        "\n",
        "**Video Presentation** (10 marks):\n",
        "\n",
        "To confirm the originality of your work and verify academic integrity, you must record a video following these guidelines:\n",
        "\n",
        "*  Display your .ipynb file on the screen as you walk through your code.\n",
        "*  Show your face at the beginning of the video to verify your identity.\n",
        "*  Demonstrate the execution of code cells, ensuring your solutions run as expected.\n",
        "*  Explain your solutions clearly for each of the tasks. Merely reading the code will result in a 0 mark for the video portion. You must show **a solid understanding of the logic** behind your code.\n",
        "*  The video length should be between 5 to 10 minutes\n",
        "*  The video quality must be at least 480p.\n",
        "*  It is recommended that you record the video using the La Trobe Zoom platform and share the link, as this ensures the content remains within the university’s systems for privacy and security.\n",
        "\n",
        "**Report** (12 Marks):\n",
        "\n",
        "In addition to the video, you are required to submit a report in **PDF format**, which should include the following:\n",
        "\n",
        "\n",
        "In this report, you must:\n",
        "* Describe which data structure(s) and/or sorting algorithm(s) you selected; if they are different from those in part 1, describe the reason for your choice.\n",
        "* Describe the time complexities (i.e. in terms of Big-O) of the involved data structure(s) and/or sorting algorithm(s) in the best, worst and average cases.\n",
        "* Describe any strategies or tricks that you implemented to improve the program's efficiency, in addition to the choice on data structure(s) and/or sorting algorithm(s).\n",
        "* Explain what a Skip List is, including an overview of its search and insertion time efficiency for best, average, and worst-case scenarios. Compare the time efficiency with the the previous data structure (your data structure).\n",
        "* Include the link to your video at the end of the report.\n",
        "* For similarity checking, please include your code snippets in the report without any descriptions or comments from the .ipynb file.\n",
        "\n",
        "Please ensure your report is clear, concise, and properly formatted before submission. Submit the report in .pdf format."
      ]
    },
    {
      "cell_type": "markdown",
      "metadata": {
        "id": "WF7TKBjMuVSE"
      },
      "source": [
        "# Resetting the Notebook Runtime\n",
        "Due to the nature of notebooks, old variables, classes and functions may still be accessible even after they have been removed from the code. This may result in unexpected program behaviour.\n",
        "\n",
        "To ensure that this isn't the case, you can reset the runtime to reset the Python interpreter state. After doing so, you should run your solutions again to ensure they function correctly.\n",
        "\n",
        "To reset the runtime, click the \"Runtime\" button in the menu at the top, then click \"Restart runtime\". Then, click \"yes\" in the following warning.\n",
        "\n",
        "![Restart_runtime.png](data:image/png;base64,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)\n",
        "\n",
        "![image.png](data:image/png;base64,iVBORw0KGgoAAAANSUhEUgAAAo0AAACdCAIAAABehtWoAAAgAElEQVR4Ae2diVdTR/vHf//KEMjCEgEJO0hRURQEFUXLi1gFLLVaxapUVAoKomCtRamCS6mtdW+PVKsYrS0tiBu4sYiyu0YEZBEwYX7Hd9o5901uICzv24t8czieyZNZnvk8c+d7Z+4k/h/FCwRAAARAAARAQKoE/k+qjsEvEAABEAABEAABCp3GIAABEAABEAAB6RKATks3NvAMBEAABEAABKDTGAMgAAIgAAIgIF0C0GnpxgaegQAIgAAIgAB0GmMABEAABEAABKRLADot3djAMxAAARAAARCATmMMgAAIgAAIgIB0CUCnpRsbeAYCIAACIAAC0GmMARAAARAAARCQLgHotHRjA89AAARAAARAADqNMQACIAACIAAC0iUAnZZubOAZCIAACIAACECnMQZAAARAAARAQLoEoNPSjQ08AwEQAAEQAAHoNMYACIAACIAACEiXAHRaurGBZyAAAiAAAiAAncYYAAEQAAEQAAHpEoBOSzc28AwEQAAEQAAEoNMYAyAAAiAAAiAgXQJD1+nU1FQieFlZWTk7Oy9YsOD8+fPS7a5kPMvNzVWpVJs2bZKMR3AEBEAABEBAigRGTKcFkk22bNkyUn09ffr0jh07Tp8+PfwKR7CqwTpj2nRkZCQhZOLEiYOtCvlBAARAAATGFIHh6rSTk1PHv19tbW2lpaWzZs1ign3v3r0R4RgTE0MIiYmJGX5tI1jVYJ0xbbq6unrbtm2lpaWDrQr5QQAEQAAExhSBEdBpIa/Hjx8znd61a5fQPuS0qcINtqqenh5WZLBV8YKDbdE0/2CbNq0BFhAAARAAgbFJYIR1mlI6btw4QkhqaioHevfu3djYWGdnZ6VSOX369CNHjvCPKKWPHz9OSEjw8fFRKpX+/v4pKSnNzc2U0ry8POFeOiEkOTmZFdTpdJ9//rmvr69CofDy8lq2bFltbS2vMzQ0lBCSlpa2atUqOzu7uXPn9lMVL0UpTU9PJ4SEh4dnZ2drNBpCiMFgWLduHSEkNDSU57x16xZz7MGDB5TS5ORkQkh0dHRRUdHs2bOVSqWnp2dSUlJXV1c/vVi1ahUhJCIiglXLmo6MjLxw4UJISIhCoXB2dl6/fn1XV9fdu3cjIyPt7OxcXFzi4uKePn3KPaGU9s9WmBNpEAABEACB0UhghHX6yZMnTMMOHDjAcPz6668KhYIZraysWCIjI4N92tDQ4OTkRAhRqVT+/v7W1taEEE9PzxcvXvz888/BwcFqtZoQolarg4ODc3NzKaVPnz718PAghFhbW3t7e7PKHRwcampqWJ1Mp1lVTHfNVWUUMCaWvCAhpK+vz0KddnFxERYkhGzcuJFSaq5pUZ22t7dnfPi/UVFRdnZ2/C0hZPr06X19fZawNeod3oIACIAACIxGAiOm0729vXfv3p09ezYhRC6Xs2Xfq1evXFxcCCGffvppW1tbT09PVlYWIcTKyqquro5SmpKSQgjx9fVtaWmhlFZVVTFZ+uqrrxhN0x3jbdu2EUJcXFwaGxsppc3NzX5+foSQzz77jBVhOi2TyXbv3l1RUcGX2qZVGQWM6TQhZOXKlWVlZRUVFZRSC3WaEJKZmdne3t7c3Lxo0SJCiEKhMBgM5nohqtOEkAMHDrx+/frp06fz5s1j8hwWFtbY2Pj69evs7GxmuX79OqV0QLZGvcNbEAABEACB0UhguDotXOqxtFwuz8/PZyxOnDjBVsPCZ72+vr6EkP3791NKP/30U7arzNeI58+f/+6774qLi1kNpuLa0dHR3Nz86tUrjjsxMZEQMnv2bGZhOr1ixQqewVxVRhmYTnt5eXF9tVyn/f39eW2FhYUMRVNTk7mmRXV60qRJvBKtVssquX37NjPq9Xq2ZD927BildEC2vCokQAAEQAAERi+BkdfpsrIyjoMpqJ2dXajg5eDgQAhJSkqilP7+++9MjQICArZv315SUvLmzRtenFJqqtOU0pqamrVr1/r4+PAddUJIcHAwK8h0mm07D1iVMAPT6YCAAKHRwvV0YGAgL8UfYFdWVjKjaS9EdVrY9NWrVxkZtm3A6mFPAdgtzoBsuT9IgAAIgAAIjF4Cw9VpJyen7n+/ampq2GovKyuL44iLi2NiY/pvQkICy1ZQUODv788zaDSavLw8XoOpwpWXl7PnuL6+vgkJCenp6UFBQWNQpy1hyzEiAQIgAAIgMEoJjIBO857Hx8cTQtg3qpmRWaZNm8bzmEtUVFTs27ePf/361KlTLKepTi9ZsoQQMmPGjN7eXpZn48aN77BONzQ0cGjC9bTlbHlxJEAABEAABEYdgZHU6erqarYs3rNnDwORm5tLCJHJZPwwNqVUr9fzLxelpqYmJyffuXOHg2Pnpz788ENmiY2NNfqdE7b4TktL40XWrl1riU6bVsVrYAnRfW9mFP5w2I0bN1g3hd/L6n/f27Rpy/e9zen0gGyNeoe3IAACIAACo5HASOo0pfTDDz9kh7Ffv35NKdXpdCqVihASGBhYXl5OKW1qaoqLi/P29n706BGllD1LjoyMbG9vZ2eYAwICCCFr165lNFevXs1+X7OlpaWzs5NSGhUVRQjx9/d/9OjRmzdvTp48yZ5SBwUFsSLmnk+bVmUUMFGdPnbsGFPlc+fOvXnzprq6mp1pJ4RYrtOmTVuu0/X19dxP4Xp6QLa8FBIgAAIgAAKjl8AI6/Tt27eZqrGzTpTS/Px8/sVifuzLx8dHp9NRSm/cuKFUKgkhtra2EydOtLW1JYTY29vzE1jHjx9nFXLx/uOPP7hFJpPx9IQJE1gYzOm0aVVGYRPV6c7OTvabJ7wh5vCgdNq06eHr9IBsjXqHtyAAAiAAAqORwAjrNKWU/Q8Tbm5u/LtYZWVlS5YscXJyksvlvr6+qampbW1tHFZ1dfXy5cs1Go1cLvfx8Vm9ejX/xjPbJE9OTh4/fvy4ceN27tzJSv32228zZ860tbV1cXFZv349+7kxmUzW2trK1+im5731er1pVdwN/ntkwkPX7NM7d+6Eh4crFAp7e/vo6Oji4mKm2Zavp02btlyn2RfNmSfC9TSz9M9W2DukQQAEQAAERiOBoev0aOwtfAYBEAABEACB0UUAOj264gVvQQAEQAAExhYB6PTYijd6CwIgAAIgMLoIQKdHV7zgLQiAAAiAwNgiAJ0eW/FGb0EABEAABEYXAej06IoXvAUBEAABEBhbBKDTYyve6C0IgAAIgMDoIgCdHl3xgrcgAAIgAAJjiwB0emzFG70FARAAARAYXQSg06MrXvAWBEAABEBgbBGATo+teKO3IAACIAACo4sAdHp0xQveggAIgAAIjC0C0OmxFW/0FgRAAARAYHQRgE6PrnjBWxAAARAAgbFFADo9tuKN3oIACIAACIwuAtDp0RUveAsCIAACIDC2CECnx1a80VsQAAEQAIHRRQA6PbriBW9BAARAAATGFgHo9NiKN3oLAiAAAiAwughAp0dXvOAtCIAACIDA2CIAnR5b8UZvQQAEQAAERhcB6PToihe8BQEQAAEQGFsEoNNjK97oLQiAAAiAwOgiAJ0eXfGCtyAAAiAAAmOLAHR6bMUbvQUBEAABEBhdBKDToyte8BYEQAAEQGBsEYBOj614o7cgAAIgAAKjiwB0enTFC96CAAiAAAiMLQLQ6bEVb/QWBEAABEBgdBGATo+ueMFbEAABEACBsUUAOj224o3eggAIgAAIjC4Cw9XpyspKQkhBQcHo6ja8HS0EgoODs7Oz/0FvHzx44O7u/vTp0+H4oNfr09LSNBqNo6PjmjVrurq6hLU9f/6c/P2yt7cPCwsrKSkRZhha+sSJE6GhoUMr+w+WGjLwmJiYjRs3Wu65t7f3kSNHKKVr1qxJS0uzvKDlOffv3x8QEEApvXfvHiGkublZWFbUKMww2LRarT5z5sxgS4nmHzAKHR0dhJCbN28aFR/xThnVL3SMR5xzFmZOTU1dsGCB0GJhmldrYf7/Qbbh6nRGRoaVldXHH3/8P/AVTZgjcPr0aScnJ9NPzdlNcw7TwpSmsrJyUPX4+/vn5eWZFhHa/xGdXrduXVxcHHOsvb09Nze3p6fH1E/LLQcPHnR2di4oKCgsLPTw8Ni+fbuwLKOXn5//4MGDsrKyxMREhUJRW1srzGNhWuj5w4cPT548aWHBIWezZIwNangMGfhgp1eu05cvXx6RGyNThlw/RNVL1GhaieWWEdTpAaPwT+m00DEecc5ZyOp/r9PCiUvoyfDTw9VpX1/fzZs3q1Sqzs5OU2/0er2pUYKW0eKnOXTm5kpzdnP1cPtggQxqIjYYDKwhc8NaaB++Tg+2L5RSodpxJsNJ7Nu37+jRo6yG7du3h4eHC2tj9PjSpK+vb9KkSRkZGcI8FqZH3PMB27VkjA1qeAzYorkMfNY2l8HIznXayD6Cb7l+iEqyqHE4rY+UTltyyfxTOi3kwyPOOQs/hU7/RaO0tFShULS3t3t6ev7000/MyuK3efNmd3f39PR0SmldXV1kZKStre2kSZPOnj0rRFlRUUEIKS8vZ8ZNmzaxnbqOjo6EhAT1v19r1qzp6OiglLa1tRFC7t27xzJnZmYazXeU0pcvX3788cdqtVqj0WzevPnNmzeU0uTk5JiYGFbqzZs3hJDi4mJKaXBwcHx8/NSpU2fNmtW/n3q93sXF5cCBA6ySCxcuyOXyV69eUUr37t3r6empUCj+9a9/1dTUsAyBgYH79+9n6cLCQkIIS7N/m5ubCSH379+nlPb19Wk0Grb/RildvHjx5s2bKaUPHjyIiopSKpWurq58+ZWamhobG5uUlOTg4ODm5nbs2DFKaUxMzN+bpkSr1fKGTO01NTWRkZEqlcrd3X3Pnj08J09YAsSU8P79+7kDqamp/Tg/d+7chQsXyuXy0tJSXiQ4OJg7wGYu9hGzBwcHJyUlRUVFKRSKKVOmlJWVscxdXV1shHh6eu7YscNoZjEahOfPn1er1byVsLCwHTt2sAGQmZm5cOFCpVLJK1er1dy3jo4OPpmyOnNycvz9/RUKRWRk5LNnz9asWWNra+vu7v7DDz/w+vft2+fu7u7o6PjJJ5+0tLRwO0skJCR88MEHQqORTlNKly5dunz58v6H7oCe88lLq9W6uLhkZ2e7uLjY2dklJSU9evRo7ty5DOmNGzeYM/0jZZu3YWFhKpXKz8/v+PHjomPv4sWL06ZNUygU/v7+7GI3HR79N8SBmwsQpbS5uXnp0qUODg6urq4ZGRks+nzWNhduSuk333zj4uKi0Wi2bNni4eHBrjteUKvVOjs7//DDD+7u7mq1esOGDX19fQzO/v37XVxcHBwckpKSgoODv/vuO2EEKaWmHaeU8hAIO8ULCo2iM565nr569SohIcHR0VGtVi9btqytrY3VaarTvr6+fMuKPaN88uRJX1/fnj17vL29VSrVnDlzKioqWHHh5S/0TbQ5djns2LHDz89PoVAsXLhQp9OZ7vCbXgt9fX2ZmZmurq5qtXrJkiXPnj3jQCilv/zyy/jx45mlurqaEMImVYPBoFartVqt0DEeOM5ZWFVqamp4eHh8fLxKpeKzJctg6pWwIK+WUnrp0qXAwEB2pVy6dIllM+0C80o4cQkrHH56WOvplJSU6OhoNpuwBKWUxW/27NnXr19//vx5Z2ent7d3WlpabW3tiRMn5HI50yfu+uTJk9mkSSn19/ffu3cvpTQ6Onr69OllZWU3b96cOnXqihUrLNTpFStWhIeHP3jwoLi4WKPRsNr60WmNRqPVauvq6gb0c8OGDfy2YN26dWyqzc3NdXR0LCgoqKqqWrZsma+vL9sg7V+nKaXTp08/dOgQpfT27duEkNjYWKbZjo6Oly9f1uv1np6e69ata2pq+vPPPx0cHPLz8ymlqampVlZW27Ztq6io2Lp1q0KhePnyZXd394kTJ5ycnDo6OoRyZWR/9eqVu7t7fHz8/fv3z549q1ar+c0Bj0VwcPCAQEwJ9/b21tfXE0LKysp6enr6dz4vL6+iokKv13d0dPj7++fm5r5+/Zo7YDAYjOzBwcEKheLHH3+8d+9eVFTUjBkzWOaPPvooMjKysrKyuLjY3d39+++/55WYDkJzE3dwcLBSqTSqvLOzc+3atbGxsezukM8LbGCHh4eXlZUVFhayieaLL76oqKjYsWOHtbX1kydPKKV5eXne3t5XrlypqqqaN2/esmXLhI7dvn1boVCcP39eaDTV6dDQ0KSkpP51ekDP+eSl1WoJIRs2bKioqDh69CghxNXV9fTp0/fu3YuOjp40aZIlSCmlnp6eycnJDQ0NR48etba2LisrMxpj1dXVMpnsyJEjjx49ysvLk8vljx49MhoelNL+Y8eBM5027SaldM6cOeHh4eXl5SUlJV5eXl9//TW7aWDPp82Fu6SkxMrKKicnp6KiIi0tjRBiqtOEkA8++ODOnTv5+fnW1tYXL16klF65csWooJFOi3Z8UDotOuOZ6+ny5ctnzZpVWVlZVVUVFBSUmJjIImiq0+np6f/617/Yp7t27QoLC6OUHj582NnZuaioqKmpadWqVRMnTmQZhJe/MAqizbHLYfr06SUlJUVFRf7+/uzOUlhQ9Fo4cuSIRqO5fv16VVXV3Llzje5Z29raZDJZdXU1pTQnJ4cQwlZH5eXl1tbW7e3twvq5oPKhzjrC/k1NTSWE7Nmzp7y8/IsvviCEPHjwYMArVDiQysrKbGxscnJyHj58mJ2dbWNjwxwz7YLpxCX0ZPjpoeu0wWBwc3NjD8CuXr0ql8tbW1v5FMmf9xw/fpyPA0rpokWL+OqQeb9z587AwEC2nCWENDQ01NTUCBfZTMmamposWU/PmDGDLeIppUVFRb/99lv/k93OnTuZGwP6WVJSIpPJXr58ySasY8eO9fX1ubm58UV2d3f3+PHjT506RSkdUKe3bNnCHupnZWXFxcXZ2dn19PRUVlbK5fKurq43b97cunWLnzaKjo7+/PPPmU7zk0Hd3d2EkKtXr1JKze09Cu2HDx/WaDT8OWtOTo6vr6/RAAoODh4QiChh4cZmP87Pnz9f2KJwf9ucPTg4mAf0t99+s7GxMRgMjY2NhBB+J56TkzN37lxhDWwS4YPQ3MQtWrnRvjefF1idDDildPPmzf7+/qxRg8Egl8t//fVXSqm3t/fp06eZ/datWzKZrLe3l7199uyZRqNhAiz0VqjT3d3deXl5VlZWbOegn1tMUyxGnvPJS6vVyuVyfg8XFBS0bt065sC1a9cIIV1dXRYivXz5Mit46tQpdhxBOMZaW1vv3r3Lu+bg4HDu3DlKqXB4DNgQB8502rSb5eXlbKJgDeXn569Zs0Y4vZoL9yeffMKXE5RSNzc3U51mYsBqnjlzZlZWFqV0+fLl7E6a2b29vY102lzHeQiEneJ8uNHcjGeup1VVVWzxSindt28fmz8ppaY6fefOHRsbG7bzFxoayjb5mpqa+OmHu3fvEkLY1C28/LlvlFLR5tjlUFRUxLpz6dIla2vrzs5OYUHRayEtLW3mzJlso6KmpoY/D+JYQkNDGd6IiIi4uLjIyEgmruwmQ1j/gDrNV1aU0pCQkK1bt/Z/hTIfeLVGcV+8eDEbaea6YG5C410bcmLoOl1UVGRjY8MCbDAYXF1d2aBn8eMP25KTk2Uyme3fL2tr6/j4eKG7Dx8+JIQ0NjYePHgwKCiIUnrmzBlbW1thHpVK9euvv1qi07/88outrW14ePjevXsfP37MKulnsuNniQf0k92XHD9+vKKiwtrauqWl5cWLF4SQW7ducVcXLly4ZcsWS3S6sLBQo9FQSmfNmlVYWDh16tTCwsJDhw7NmzeP1VZVVRUTE+Pm5ubg4GBjY8MmVqMnLjKZjM2bwrmSO2Ok3xs2bFi0aBH/tKysjE3Q3MKmxQGBiBIWTsTswh7QebZ9wjflhG4Ih7vw+fTVq1cJId3d3efPnyeE/D2mbBUKhZeXl7AGo0FobuIWrdxI7fi8YFTnjh072MTB2mVTJBuiSqWS+aZSqYSKsn79+pCQEP54njvM6MnlcoVCYWVlpVKp2N1e/7eYPFIci5HnXCS0Wq1CoeDNhYeHZ2Zmsre8dwMipZRu2bJFqVTGxcUdO3aMbTYYjTFKqVarnT17trOzM3t8wG5ZhMNjwIa4S0YDknczPz9f+BSD94tPr+bCHRISwnSXFeHPp3lBI1ARERHsLiEkJGTXrl28oQkTJhjptLmO8xAIO8Xr4UZzM565nra0tGzYsMHX19fBwUGpVPL7RVOdppT6+fn99NNPz58/l8lkjx49Yvt2e/fuDQgIUKvV9vb2hJDnz58b0ea+UUpFmzO6HFiIq6ureUFz10JNTY2Xl9fEiRO3bt16+/ZtToMnMjIyli1b1tHRYW9v39TUpFQqOzs7ly5d+uWXXxrtq/PAcc68EraqEZ73Xrdu3dKlS815JSzIq508eXJOTg7/aM+ePWyZZK4LwomLlxqRxNB1OiEhgRCi+PtlZWX1/vvv8/W0UKfDw8NrBS9+J8g7wFafCxYs2L17N6X0woULDg4O/NO+vj62VWiJTrNRdfz48djYWKVSyTYYLdTpAf1k9WRnZ7NbvFevXgmfl1NKIyMjk5OTLdHp7u5uhUJx8+ZNtVrd09Ozbdu2lJSUTz75hM0j3d3d7LE0uxGOi4sbvk5v2rSJP6SnlN64cYMQwp9sMdpC3UpOTjYHpKWlxYiwcCK20Plh6jQ7Ec2HVWNjIx8wpoPQ3MQt7C+XASO14/OO0cTUj06fPXuWO1ZbW8vX04sWLRI9FsDosfPeZ8+etba2Zttr/2Od7h8pw1tbW5ubmxsaGurq6lpfX2+k03fu3FGpVL/88gvbtnFychLV6f4b4sCNlIMH6Ny5c+PGjROGm6X59Gou3KGhoexBGMtvuU7PnDmT3xVRSk112lzHuX4IO8U950ZzM565nsbGxi5evJiJbl5eXv86vW3btqVLl/7www8zZ85kTR84cMDHx+fu3bsGg4E9tO5fp0WbM7ocnjx5ws7c8E6x6Vr0Wujp6dFqtYmJiXZ2dny/hGMpLi52dXUtKChg0+ysWbMKCgrc3NyuXbs2HJ1OSEjgOi3qFXeAD6Tp06fzY0aU0t27d/OtC9EuSE6ne3t7nZyccnNzH/z9Onv2rJWV1fPnz43i9/33348fP54/g+S34RwKpTQ7OzskJEShULAjA7W1tYQQPlXdunWLEFJXV9fb22tlZcU3HtPS0oTbGpTSnp6e9PT0pqYmVvn69esjIiIopdu3b2cJSmlXV5fwHBm//Czx8+bNm0qlMjg4mB8a8vDwYI+ZKaXd3d3Ozs5sG2fOnDn8zv3SpUtG58iYexEREfPnz2faef369ffee8/T05Ptdt65c4cQwkSaUhoVFdW/Tufn54t+L0toP3LkiLu7O9eMnJwcT09PYRSMpkVRIOYI63Q6QgjbCLXQeUrpxIkTRdfTQruolLI9GH4zrtfr+QBjPTIahH/88QfbMGefhoSE8HNkfABwGaCUJiYm8u9l8XnHqE5RnaaUajQa4T14e3u7EWTTt0yn+a1tbGwsf2hnydA15zkXCaNlouh6ekCk1dXVmZmZbLuyr68vICCAjXDhGMvNzZ02bRrrYG9vr729PdNp4fAYsCEO3GhA8m6y40X8zqykpITd/fDp1Vy4V65cKdzM8/LyMt33Fm488PV0fHw8Hw+UUi8vL6P1tLmO8xAIO8UHADeam/HM9dTe3p7/ZMXXX3/dv07fu3fP3t4+MjIyNzeXNR0dHZ2SksLS7ERn/zot2hy7HPi+t1arNd33Fr0WvvnmG17q559/trGx4Yf1mEs9PT0qlWr+/PlMI3ft2hUREWFvb88OBXNowicdnDNny9bTQoEIDg7etm2bJVcoH0grV65cunQpr3PRokVs/JjrgnDi4qVGJDHE9fTFixdtbGyEq7G+vj4PD4+DBw8aTWcdHR1ubm5xcXGVlZWlpaWTJ082/SZ+Q0MDIYTfqlBK4+LiQkJCyv79CgwM5A+Hpk6dumTJkoqKip9//nncuHHCMDAcU6dOjY6OZtsvQUFBGzZsYGcIFQrFhQsX7ty5s3z5clGdtsRP9mxDJpO9ePGCNZeXlzd+/HitVltdXb1ixQoPDw92I5KUlOTv719aWlpcXDxt2jRRnf76668JIYcPH6aUGgwGtlXIHiK+ePFCoVCkpaWVlZVlZmYSQj799FPTnRy+782OlBcWFhqdLhbaX79+7eHhsXr16urq6vPnz48bN44/WecjSSiK5oCIEu7p6bGyssrOzn78+LGFzlNKw8LC4uLi2OEO7oORXegSn6nZScOAgICSkpIHDx589NFHRj9wYTQInz9/LpfLs7KyKisrs7OzCSH963RmZqafn9+tW7d6e3v5vGBUpzmdzs3NVavVp0+fbmhoyMrKmjp1Kp+GtFotP1sr7K+RTtfU1NjY2Pz+++8WDl0hFqHnfPKyRKcHRPrkyROFQrF9+/aGhobCwkK+xSocY2yyPnny5LVr15YsWUIIOXHiBLuB5sNjwIY4cHM6zTau5s+fX15efu3aNT8/P7YjyqdXc+G+evWqQqHQarVdXV2HDh0SPUcmqtNXr16VyWT79+/nB9CMdNpcx3kIhJ3ioRcazc14kZGRpj0NCgqKjIwsLS09evSoWq329vZmdfKg8CZYwt/fnxDCFzCbN2/28vIqLCy8dOnSlClT+EfCa03om2hz7HKYNm0aP0fGNExYUPRaSEpKeu+9965du1ZXV7dq1arJkycbectWJvykN/tOED9YIKyfR5xzFlbFzpFlZ2dXVFR88cUXMpmMrQNFvRIW5NWWl5fb2NgcOHCgpqZm7969NjY2bG1grgvCCe3ixYtGx0WFTQw2PUSdXrFixcKFC40aS0lJmTlzptF0RimtqKiYN2+eQqHQaDTbt2/n51mExaZnCBMAAA3pSURBVKdNm/bVV19xy6tXr+Lj4+3t7ceNG5eQkMC/nH3z5s0pU6bY2dnNmzdv7dq1pjpdX1+/cOFClUrl6OgYHx/PlqQGgyExMVGtVnt6eu7evVupVPLvZfHllIV+pqSksO195mpfX19WVparq6tSqYyMjOSnM3Q6HfsqWkBAwI4dO0R1mq072eYVpTQ+Pn7JkiWcwJkzZ3x8fNRqdXx8fFpaGjvxbu75dG9vb0REhEqlEn4vi1JqZL9//z4LhKenp3DNxxsVXqjmgIgSppRu3brV1taWPZ63xHlK6blz5xwdHfl2HHdDaBe6JBSk1tbWlStXOjg42NvbL1u2jJ3v4zWYDsIjR464ubmxUTFnzpz+dbqmpua9995zcHBobm7m84JRneZ02mAw7Ny509XVVaFQhIWF8a8Rsi/dCR9zcm+NdJptd0+ZMkWv11sydIVYhJ7zyctCne4fKaW0sLBw+vTpCoXC09OTbxcZjbGMjAxnZ2d3d/fdu3cvWrTo4MGDrJvC4dF/Qxx4Pzqt0+k+/PBDlUo1fvz4rVu3simFT6+UUtFwU0oPHjw4fvx4JyenhISESZMmWbie5gVdXFxSU1O9vLzY7TWPIKVUtOM8BMJO8VJCo7kZT7SnFRUVoaGhtra28+bNO3jw4JQpU9iDBnM6vX379pCQEN5uW1sbO7s6efLkU6dOTZw4ke3lCK81oW+izbHLYd++fex7WYsWLWKLBGFB0Wuhq6srMTHRycnJ1tb2/fffr6qq4o7xRG5u7oQJE/hbLy8vPpCE9fOIc868CFvVREdHr1ixgn0TlZ/5EPVKWJBXSyktKCiYNGmSXC4PDAzkhyjNdUE4cX322WcrV64UVjuc9BB1ejhNmpZ9/fq1Wq3mG92mGaRjiYyM5Bvd0vEKnoAACPxXCfAvSnR3dyuVSj5l/1cbReUgwAj88zpdXl6ekJAwe/ZsiYeksbHx22+/tbe3N9pblrjbcA8EQGCYBIqLi2fMmHHjxo2HDx/Gx8d7enryHb5h1oziIGAJgX9epz08PAIDAx8+fGiJu/9gnhUrVmg0mhF85PAP9gVNgwAIWE5Ar9d/+eWXHh4ednZ28+fPH+zv2FveEHKCgCiBf16nRd2CEQRAAARAAARAgFIKncYwAAEQAAEQAAHpEoBOSzc28AwEQAAEQAAEoNMYAyAAAiAAAiAgXQLQaenGBp6BAAiAAAiAAHQaYwAEQAAEQAAEpEsAOi3d2MAzEAABEAABEIBOYwyAAAiAAAiAgHQJQKelGxt4BgIgAAIgAALQaYwBEAABEAABEJAuAei0dGMDz0AABEAABEAAOo0xAAIgAAIgAALSJQCdlm5s4BkIgAAIgAAIQKcxBkAABEAABEBAugSg09KNDTwDARAAARAAAeg0xgAIgAAIgAAISJcAdFq6sYFnIAACIAACIACdxhgAARAAARAAAekSgE5LNzbwDARAAARAAASg0xgDIAACIAACICBdAtBp6cYGnoEACIAACIAAdBpjAARAAARAAASkSwA6Ld3YwDMQAAEQAAEQgE5jDIAACIAACICAdAlAp6UbG3gGAiAAAiAAAtBpjAEQAAEQAAEQkC4B6LR0YwPPQAAEQAAEQAA6jTEAAiAAAiAAAtIlAJ2WbmzgGQiAAAiAAAhApzEGQAAEQAAEQEC6BKDT0o0NPAMBEAABEAAB6DTGAAiAAAiAAAhIlwB0WrqxgWcgAAIgAAIgAJ3GGAABEAABEAAB6RKATks3NvAMBEAABEBAlIBer9fpdA0NDXXvxKuhoUGn0+n1etHOQqdFscAIAiAAAiAgXQI6ne6dEOj/6IROpxMlDp0WxQIjCIAACICAdAnU19f/h8S9E2/q6+tFiUOnRbHACAIgAAIgIF0C74Qui3RClDh0WhQLjCAAAiAAAtIlICJx74RJlDh0WhQLjCAAAiAAAtIl8E6IskgnRIlDp0WxwAgCIAACICBdAiIS906YRIlDp0WxwAgCIAACICBdAu+EKIt0QpQ4dFoUC4wgAAIgAALSJSAice+ESZQ4dFoUC4wgAAIgAALSJfBOiLJIJ0SJQ6dFscAIAiAAAiAgXQIiEvdOmESJQ6dFscAIAiAAAiAgXQLvhCiLdEKUOHRaFAuMIAACIPBOEXj9+nVaWpqHh4ednV1ISIhWqzXqXnp6OiHkxx9/FNplMplarW5ububGwMBAjUbD3165cmXu3Lm2trZeXl6fffZZS0sL+0gmk5H/fGVnZ1NKZTJZREQELz7khIjEDd50tqTJIbXVc9vLqgd//brZkd8fOaS2Bux4WXK33iG11ehv06mndXV15ffrk08+DdjxcvyW1qCvmrN+eVJTO/i2zZQQBQKdFsUCIwiAAAi8UwQWLFhACImJiUlPT58yZQohxEiqfXx8CCGLFy8WdpvJ7fr167lRqNNXrlyxsbHx9PTctGnTqlWrrK2tQ0ND2X8mIZPJJkyYkCV4Xb9+XWo6XVdXN3/PC4fU1twLT5huLsjVOaS2fn3uyY3ytzrtmNYakaPjf3sLHtfV1S3c97aIb+bLiL061/QWh9TWtB//Km5GfAdh5pyFCei0kAbSIAACIPAOEtBqtYSQtLQ01rf29nYXF5fAwEDe1dLSUkKIn5+fXC5va2vjdqbTMpmsqqqKGYU6HRQUZG9v/+zZM/bRnj17CCHnz5/vR48ltZ6uq6s7Vvh2AR2c9aK2ru7Xm40Oqa3eGW+X10ynvTJajDS2+HYDW4KX33/7X3VdLn1bxCW95WGNUcYhvuXkhQnotJAG0iAAAiDwDhJYs2YNIaSxsZH3LTs7e8mSJT09PcySkpIil8svX75MCDl69CjPJpPJ/P39FQpFZGQkM3KdfvToESFk1apVPHNjY2NMTMypU6dGkU7X1NYFZzU7pLb+VNS45ofnDqmtmflvF8f967T7tpbr9/7aKv+pqOnkn03VD4cozEbFOExhAjotpIE0CIAACLyDBObNm2dtbW0wGET71tfX5+7uHhUV1dfX5+rqyiWZy+3WrVsJIRcvXqSUcp2+cuUKIeSrr74SrVMmk4WFhTX+/Xr69CnLJrX1dF1d3QHtY4fU1vf36lzSW13TW+5UvV0om9Ppurq6qH/ve7tva9l44tmftxqNhHaYb0VhQqdFscAIAiAAAu8OgRkzZqjVanP9KSkpIYQcPnyYUpqYmCiTyV68eMEyM1ltb2/XaDQTJ0588+YN1+mLFy8SQvbv3y9ardE5soCAAGGFokUGZRymHAqLVz+s8//iJTsy9vmJZ+wjptPCc2RTv3zJPrp7v2Hld29X3uxvxXfPy++P2H+yKQoBOi2KBUYQAAEQeHcIhIeHW1tb9/X1iXZp/fr1hJBr167V1tYeOXKEEHLo0CGWky9/mf3gwYNcp4uKivpfTwcGBp7/+/Xnn38aVSjqieVGodAOP73zzBN2auza37vZTKcd01qXfKNjf2uP/CXhrLni2w2bTz31ynh7juyTQ8+H7wOrQZQAdFoUC4wgAAIg8O4QiI+PJ4Q0NTXxLn377bcJCQk9PT16vd7FxeU/v0JFwsPDWU6u0waDITAw0NHR0dvbm30vq6GhgRCyevVqXufjx4/Xrl179uxZvmHOP+IJXiG3DC0xUrrI6rlw/e0XtAJ3NvNqze17ny1pysx/8lNRE8t55c7bY2WOaa14Pj20OKIUCIAACIDAWwJnzpwhhGRkZDAcHR0dGo2G7UUXFhYSQjZs2HDm79fChQutrKzYE2WhrBYXFzM559+fnjx5slqt5pvkOTk5hJAzZ868wzr97a9vz4fP+foFE+bSinr1Xzo9MlvfouMV62lRLDCCAAiAwLtDwGAwzJkzhxCydOnSrVu3su9PFxQUUEpNj4KfO3eOP3gW6jSlNDY2lhDCdfry5csymczHxyctLW3VqlVyuTwkJKS3t5fptJ+fX7bgVVJSImoXrvItJ84XviOSMLeedkxrjdr3gv/tPf/4/sP6Wbvfng/3/+JlVK7ON/Ptg+0V32Hf2/LQIScIgAAIgIAYgfb29o0bN2o0Gjs7u9DQUPYjJ729vePGjZs6daqwRGdnp0KhCA0NNV0W19XVyeVyrtOU0suXL4eGhiqVSi8vr8TExJcvX7KqjM6REUIyMzNZhUZ77IWFhcLWLUyPiDzzSszpND8sxhLJJ98+oi6/35B88umUL1+6pL/dKk/76Sn/OTNe4ZATot3HeloUC4wgAAIgAALSJTBkIZR4QVHi0GlRLDCCAAiAAAhIl4DE5XbI7okSh06LYoERBEAABEBAugSGLIQSLyhKHDotigVGEAABEAAB6RKQuNwO2T1R4tBpUSwwggAIgAAISJfAkIVQ4gVFiUOnRbHACAIgAAIgIF0CEpfbIbsnShw6LYoFRhAAARAAAekSGLIQSrygKHHotCgWGEEABEAABKRLQOJyO2T3RIlDp0WxwAgCIAACICBdAkMWQokXFCUOnRbFAiMIgAAIgIB0CUhcbofsnihx6LQoFhhBAARAAASkS6C+fmT+34shC+p/o2B9fb0ocei0KBYYQQAEQAAEpEtAp9P9N5Tyn61Tp9OJEodOi2KBEQRAAARAQLoE9Hq9TqdraGj4Z5V1pFpvaGjQ6XR6vV6UOHRaFAuMIAACIAACICAJAtBpSYQBToAACIAACICAKAHotCgWGEEABEAABEBAEgSg05IIA5wAARAAARAAAVEC0GlRLDCCAAiAAAiAgCQIQKclEQY4AQIgAAIgAAKiBP4fZJSUyYvk/SMAAAAASUVORK5CYII=)"
      ]
    }
  ]
}